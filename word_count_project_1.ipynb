{
  "nbformat": 4,
  "nbformat_minor": 0,
  "metadata": {
    "colab": {
      "name": "word_count_project_1.ipynb",
      "provenance": [],
      "collapsed_sections": [],
      "authorship_tag": "ABX9TyPl9JrlUr+2xJVaYD24zs4R",
      "include_colab_link": true
    },
    "kernelspec": {
      "name": "python3",
      "display_name": "Python 3"
    },
    "language_info": {
      "name": "python"
    },
    "gpuClass": "standard"
  },
  "cells": [
    {
      "cell_type": "markdown",
      "metadata": {
        "id": "view-in-github",
        "colab_type": "text"
      },
      "source": [
        "<a href=\"https://colab.research.google.com/github/akshukla283/python_projects_for_beginners/blob/main/word_count_project_1.ipynb\" target=\"_parent\"><img src=\"https://colab.research.google.com/assets/colab-badge.svg\" alt=\"Open In Colab\"/></a>"
      ]
    },
    {
      "cell_type": "code",
      "execution_count": null,
      "metadata": {
        "id": "-JDnOSMIjtoG"
      },
      "outputs": [],
      "source": [
        ""
      ]
    },
    {
      "cell_type": "markdown",
      "source": [
        "### Word Count from text files automatically.\n",
        "\n",
        "### About the project:\n",
        "A content company who works with multiple stack holder to make their content. But for each content writer they need to pay them based on the words they have written.\n",
        "\n",
        "so, they want to make a automatic system which can count the word from a text file automatically.\n",
        "\n",
        "\n"
      ],
      "metadata": {
        "id": "8tq8ET4LfRJA"
      }
    },
    {
      "cell_type": "markdown",
      "source": [
        "### Word Count from a text file"
      ],
      "metadata": {
        "id": "0M_FmUOTkRJv"
      }
    },
    {
      "cell_type": "code",
      "source": [
        "# fetching file from my dropbox"
      ],
      "metadata": {
        "id": "QwKz0OZv0BkQ"
      },
      "execution_count": null,
      "outputs": []
    },
    {
      "cell_type": "code",
      "source": [
        "!wget https://www.dropbox.com/s/xyvwtnv61ku8a4r/word_count.txt?dl=0"
      ],
      "metadata": {
        "id": "23XAVj3Skchx",
        "colab": {
          "base_uri": "https://localhost:8080/"
        },
        "outputId": "86c8648e-695d-4bbd-b869-c6a939dae7c0"
      },
      "execution_count": 1,
      "outputs": [
        {
          "output_type": "stream",
          "name": "stdout",
          "text": [
            "--2022-07-11 16:13:54--  https://www.dropbox.com/s/xyvwtnv61ku8a4r/word_count.txt?dl=0\n",
            "Resolving www.dropbox.com (www.dropbox.com)... 162.125.5.18, 2620:100:601d:18::a27d:512\n",
            "Connecting to www.dropbox.com (www.dropbox.com)|162.125.5.18|:443... connected.\n",
            "HTTP request sent, awaiting response... 301 Moved Permanently\n",
            "Location: /s/raw/xyvwtnv61ku8a4r/word_count.txt [following]\n",
            "--2022-07-11 16:13:55--  https://www.dropbox.com/s/raw/xyvwtnv61ku8a4r/word_count.txt\n",
            "Reusing existing connection to www.dropbox.com:443.\n",
            "HTTP request sent, awaiting response... 302 Found\n",
            "Location: https://uc3e241ac2113596592b847cf598.dl.dropboxusercontent.com/cd/0/inline/Bo5GqiTx0iMUoTc5VNzkMImO9QYcgCXNsuoewPfHE14LN-yAkZDy8ImOwG4wy_WJjwuCLn3WIAXHPut4hUfcewXhiDhXoZCw7YMdgSlllL9M6G-lBm4D8MpsZc99SOABl3dIQpTlYL9NTGPXKfc6CeRttHxfiSNW2iShvygvwvt5jQ/file# [following]\n",
            "--2022-07-11 16:13:55--  https://uc3e241ac2113596592b847cf598.dl.dropboxusercontent.com/cd/0/inline/Bo5GqiTx0iMUoTc5VNzkMImO9QYcgCXNsuoewPfHE14LN-yAkZDy8ImOwG4wy_WJjwuCLn3WIAXHPut4hUfcewXhiDhXoZCw7YMdgSlllL9M6G-lBm4D8MpsZc99SOABl3dIQpTlYL9NTGPXKfc6CeRttHxfiSNW2iShvygvwvt5jQ/file\n",
            "Resolving uc3e241ac2113596592b847cf598.dl.dropboxusercontent.com (uc3e241ac2113596592b847cf598.dl.dropboxusercontent.com)... 162.125.5.15, 2620:100:601d:15::a27d:50f\n",
            "Connecting to uc3e241ac2113596592b847cf598.dl.dropboxusercontent.com (uc3e241ac2113596592b847cf598.dl.dropboxusercontent.com)|162.125.5.15|:443... connected.\n",
            "HTTP request sent, awaiting response... 200 OK\n",
            "Length: 10945 (11K) [text/plain]\n",
            "Saving to: ‘word_count.txt?dl=0’\n",
            "\n",
            "word_count.txt?dl=0 100%[===================>]  10.69K  --.-KB/s    in 0s      \n",
            "\n",
            "2022-07-11 16:13:56 (191 MB/s) - ‘word_count.txt?dl=0’ saved [10945/10945]\n",
            "\n"
          ]
        }
      ]
    },
    {
      "cell_type": "code",
      "source": [
        "# reading file\n",
        "with open(\"word_count.txt?dl=0\", \"r\") as f_obj:\n",
        "  contents = f_obj.read()\n",
        "  "
      ],
      "metadata": {
        "id": "XylnOGJlz1tI"
      },
      "execution_count": 2,
      "outputs": []
    },
    {
      "cell_type": "code",
      "source": [
        "words_list = contents.split()"
      ],
      "metadata": {
        "id": "_INbF4O000Rb"
      },
      "execution_count": 5,
      "outputs": []
    },
    {
      "cell_type": "code",
      "source": [
        "# we can check word list \n",
        "words_list[0]"
      ],
      "metadata": {
        "colab": {
          "base_uri": "https://localhost:8080/",
          "height": 35
        },
        "id": "Z-ZR55sh1TYc",
        "outputId": "f29eb6d2-28f0-443a-b0b5-5b8f8f6e09c7"
      },
      "execution_count": 6,
      "outputs": [
        {
          "output_type": "execute_result",
          "data": {
            "text/plain": [
              "'Is'"
            ],
            "application/vnd.google.colaboratory.intrinsic+json": {
              "type": "string"
            }
          },
          "metadata": {},
          "execution_count": 6
        }
      ]
    },
    {
      "cell_type": "code",
      "source": [
        "# now for counting the words in words_list we can use simple 'len()' function\n",
        "total_words = len(words_list)\n",
        "total_words"
      ],
      "metadata": {
        "colab": {
          "base_uri": "https://localhost:8080/"
        },
        "id": "JVARTVFk6Jke",
        "outputId": "8cfb0782-0e6a-4d1c-e7ba-1618a7a352ba"
      },
      "execution_count": 7,
      "outputs": [
        {
          "output_type": "execute_result",
          "data": {
            "text/plain": [
              "1831"
            ]
          },
          "metadata": {},
          "execution_count": 7
        }
      ]
    },
    {
      "cell_type": "code",
      "source": [
        "# Now let's make function which will take file as input and return the number of words in that file.\n",
        "\n",
        "def number_of_words(file):\n",
        "  with open(file, \"r\") as f_obj:\n",
        "    contents = f_obj.read()\n",
        "    total_words = len(contents.split())\n",
        "    return total_words\n",
        "\n"
      ],
      "metadata": {
        "id": "BLZrQizT1YSy"
      },
      "execution_count": 8,
      "outputs": []
    },
    {
      "cell_type": "code",
      "source": [
        "# As we have file as \"word_count.txt?dl=0\"\n",
        "file = \"word_count.txt?dl=0\"\n",
        "print(\"NUmber of words in file : \", number_of_words(file))"
      ],
      "metadata": {
        "colab": {
          "base_uri": "https://localhost:8080/"
        },
        "id": "Uz3aELitEA1-",
        "outputId": "a39287c0-f35b-46bc-9aed-b347c334ffed"
      },
      "execution_count": 9,
      "outputs": [
        {
          "output_type": "stream",
          "name": "stdout",
          "text": [
            "NUmber of words in file :  1831\n"
          ]
        }
      ]
    },
    {
      "cell_type": "code",
      "source": [
        ""
      ],
      "metadata": {
        "id": "NXISad0lEb2m"
      },
      "execution_count": null,
      "outputs": []
    }
  ]
}