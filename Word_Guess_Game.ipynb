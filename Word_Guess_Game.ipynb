{
  "nbformat": 4,
  "nbformat_minor": 0,
  "metadata": {
    "colab": {
      "name": "Word_Guess_Game.ipynb",
      "provenance": [],
      "authorship_tag": "ABX9TyM41Lzfx33tgVH8mSiY2dHG",
      "include_colab_link": true
    },
    "kernelspec": {
      "name": "python3",
      "display_name": "Python 3"
    },
    "language_info": {
      "name": "python"
    }
  },
  "cells": [
    {
      "cell_type": "markdown",
      "metadata": {
        "id": "view-in-github",
        "colab_type": "text"
      },
      "source": [
        "<a href=\"https://colab.research.google.com/github/akshukla283/python_projects_for_beginners/blob/main/Word_Guess_Game.ipynb\" target=\"_parent\"><img src=\"https://colab.research.google.com/assets/colab-badge.svg\" alt=\"Open In Colab\"/></a>"
      ]
    },
    {
      "cell_type": "markdown",
      "source": [
        "### Word Guess Game:"
      ],
      "metadata": {
        "id": "Bm5FISqwE9dR"
      }
    },
    {
      "cell_type": "code",
      "source": [
        "# for this we need to import random function\n",
        "import random"
      ],
      "metadata": {
        "id": "aCXhZAdVFEx0"
      },
      "execution_count": 7,
      "outputs": []
    },
    {
      "cell_type": "code",
      "source": [
        "# suppose we have words list\n",
        "words = ['apple', 'oracale', 'amazon', 'microsoft', 'orange', 'cat', 'dog']\n"
      ],
      "metadata": {
        "id": "hhCUKaMaFMS8"
      },
      "execution_count": 8,
      "outputs": []
    },
    {
      "cell_type": "code",
      "source": [
        "# choose the random word from the list\n",
        "guessed_word = random.choice(words)\n",
        "guessed_word"
      ],
      "metadata": {
        "colab": {
          "base_uri": "https://localhost:8080/",
          "height": 35
        },
        "id": "GHhAUVSGFljG",
        "outputId": "827fce34-f49b-4611-d70e-e3a90e3c24be"
      },
      "execution_count": 9,
      "outputs": [
        {
          "output_type": "execute_result",
          "data": {
            "text/plain": [
              "'amazon'"
            ],
            "application/vnd.google.colaboratory.intrinsic+json": {
              "type": "string"
            }
          },
          "metadata": {},
          "execution_count": 9
        }
      ]
    },
    {
      "cell_type": "code",
      "source": [
        "hint = guessed_word[0]+guessed_word[-1]\n",
        "hint"
      ],
      "metadata": {
        "colab": {
          "base_uri": "https://localhost:8080/",
          "height": 35
        },
        "id": "GucTDcyXF2Bw",
        "outputId": "2c5331c0-6162-4444-9474-cf8b055097ce"
      },
      "execution_count": 10,
      "outputs": [
        {
          "output_type": "execute_result",
          "data": {
            "text/plain": [
              "'an'"
            ],
            "application/vnd.google.colaboratory.intrinsic+json": {
              "type": "string"
            }
          },
          "metadata": {},
          "execution_count": 10
        }
      ]
    },
    {
      "cell_type": "code",
      "source": [
        "# we will give 6 chance to guess the word for that we need to store the guessed words\n",
        "store_g_l = []\n",
        "\n",
        "words = ['apple', 'oracale', 'amazon', 'microsoft', 'orange', 'cat', 'dog']\n",
        "try_p = len(sorted(words, key= len)[-1])\n",
        "\n",
        "name = input(\"Enter your name : \")\n",
        "print() # just for space\n",
        "print(\"Welcome to the Game World!,\", name)\n",
        "print(f\"You have {try_p} attempts for the guessing\")\n"
      ],
      "metadata": {
        "colab": {
          "base_uri": "https://localhost:8080/"
        },
        "id": "FwGj__KQGDHs",
        "outputId": "d860ea85-6091-40eb-d7a6-c3acc2f92e20"
      },
      "execution_count": 11,
      "outputs": [
        {
          "output_type": "stream",
          "name": "stdout",
          "text": [
            "Enter your name : Ankit shukla\n",
            "\n",
            "Welcome to the Game World!, Ankit shukla\n",
            "You have 6 attempts for the guessing\n"
          ]
        }
      ]
    },
    {
      "cell_type": "code",
      "source": [
        "for guess  in range(try_p):\n",
        "  while True:\n",
        "    letter = input(\"Guess the letter : \")\n",
        "    \n",
        "    if len(letter) == 1:\n",
        "      break\n",
        "    else:\n",
        "      print(\"Oops! Please guess a letter!\")\n",
        "\n",
        "  if letter in guessed_word:\n",
        "    print(\"Yes!\")\n",
        "    store_g_l.append(letter)\n",
        "\n",
        "  else:\n",
        "    print(\"No!\")\n",
        "\n",
        "  if guess == 3:\n",
        "    print()\n",
        "    clue_request = input(\"Would you like a clue?\")\n",
        "    \n",
        "    if clue_request.lower().startswith(\"y\"):\n",
        "      print()\n",
        "      print(\"CLUE: The first and last letter of the word is :\", hint)\n",
        "    else:\n",
        "      print(\"You're very confident!\")\n",
        "\n",
        "\n",
        "  print()\n",
        "  print(\"Now let's see what have you guessed so far.\\nYou have guessed : \",len(store_g_l), \"letter correctly\")\n",
        "  print(\"These letter are : \", store_g_l)\n",
        "\n",
        "word_guess = input(\"Guess the whole word: \")\n",
        "if word_guess.lower() == guessed_word:\n",
        "  print(\"Congrats! you are correct\")\n",
        "\n",
        "else:\n",
        "  print(\"Sorry! The answer was, \", guessed_word)\n",
        "\n",
        "print()\n",
        "print(\"Please press Enter to leave the program\")\n",
        "\n",
        "\n",
        "\n",
        "  "
      ],
      "metadata": {
        "colab": {
          "base_uri": "https://localhost:8080/"
        },
        "id": "cb1ekDx0HG3F",
        "outputId": "8fd2b6a6-a09a-4dbe-ae17-f1b7586599c3"
      },
      "execution_count": 13,
      "outputs": [
        {
          "output_type": "stream",
          "name": "stdout",
          "text": [
            "Guess the letter : k\n",
            "No!\n",
            "\n",
            "Now let's see what have you guessed so far.\n",
            "You have guessed :  0 letter correctly\n",
            "These letter are :  []\n",
            "Guess the letter : a\n",
            "Yes!\n",
            "\n",
            "Now let's see what have you guessed so far.\n",
            "You have guessed :  1 letter correctly\n",
            "These letter are :  ['a']\n",
            "Guess the letter : m\n",
            "Yes!\n",
            "\n",
            "Now let's see what have you guessed so far.\n",
            "You have guessed :  2 letter correctly\n",
            "These letter are :  ['a', 'm']\n",
            "Guess the letter : a\n",
            "Yes!\n",
            "\n",
            "Would you like a clue?\n",
            "You're very confident!\n",
            "\n",
            "Now let's see what have you guessed so far.\n",
            "You have guessed :  3 letter correctly\n",
            "These letter are :  ['a', 'm', 'a']\n",
            "Guess the letter : z\n",
            "Yes!\n",
            "\n",
            "Now let's see what have you guessed so far.\n",
            "You have guessed :  4 letter correctly\n",
            "These letter are :  ['a', 'm', 'a', 'z']\n",
            "Guess the letter : o\n",
            "Yes!\n",
            "\n",
            "Now let's see what have you guessed so far.\n",
            "You have guessed :  5 letter correctly\n",
            "These letter are :  ['a', 'm', 'a', 'z', 'o']\n",
            "Guess the whole word: o\n",
            "Sorry! The answer was,  amazon\n",
            "\n",
            "Please press Enter to leave the program\n"
          ]
        }
      ]
    },
    {
      "cell_type": "code",
      "source": [
        "# Now let's combine all the code at one place\n",
        "\n",
        "import random\n",
        "\n",
        "print(\"Hello and welcome to the Game World!\")\n",
        "words = ['apple', 'oracle', 'amazon', 'microsoft', 'orange', 'cat', 'dog']\n",
        "try_p = 6 # 6 attempts\n",
        "name = input(\"Enter your name : \")\n",
        "print(words)\n",
        "print(f\"Hello,{name} you have a list of name as shown above.\\nNow you have to guess correct letter of guessed word\")\n",
        "print(\"And after 6 attempts you have to guess whole word with help of correct letter guess\")\n",
        "print(f\"you have total {try_p} attempts to guess the word\")\n",
        "\n",
        "# choose the random word from the list\n",
        "guessed_word = random.choice(words)\n",
        "# hint \n",
        "hint = guessed_word[0]+guessed_word[-1]\n",
        "# store the guess\n",
        "store_g_l = []\n",
        "\n",
        "for guess  in range(try_p):\n",
        "\n",
        "  while True:\n",
        "    letter = input(\"Guess the letter : \")\n",
        "    if len(letter) == 1:\n",
        "      break\n",
        "    else:\n",
        "      print(\"Oops! Please guess a letter!\")\n",
        "\n",
        "  if letter in guessed_word:\n",
        "    print(\"Yes!\")\n",
        "    store_g_l.append(letter)\n",
        "\n",
        "  else:\n",
        "    print(\"No!\")\n",
        "\n",
        "  if guess == 3:\n",
        "    print()\n",
        "    clue_request = input(\"Would you like a clue?\")\n",
        "    \n",
        "    if clue_request.lower().startswith(\"y\"):\n",
        "      print()\n",
        "      print(\"CLUE: The first and last letter of the word is :\", hint)\n",
        "    else:\n",
        "      print(\"You're very confident!\")\n",
        "    \n",
        "  print()\n",
        "  print(\"Now let's see what have you guessed so far.\\nYou have guessed : \",len(store_g_l), \"letter correctly\")\n",
        "  print(\"These letter are : \", store_g_l)\n",
        "\n",
        "word_guess = input(\"Guess the whole word: \")\n",
        "if word_guess.lower() == guessed_word:\n",
        "  print(\"Congrats! you are correct\")\n",
        "\n",
        "else:\n",
        "  print(\"Sorry! The answer was, \", guessed_word)\n",
        "\n",
        "print()\n",
        "print(\"Please press Enter to leave the program\")\n"
      ],
      "metadata": {
        "colab": {
          "base_uri": "https://localhost:8080/"
        },
        "id": "nxBcpwqkNfLk",
        "outputId": "1a53ebbe-72e5-4d16-9b4e-3a480ef0d430"
      },
      "execution_count": 9,
      "outputs": [
        {
          "output_type": "stream",
          "name": "stdout",
          "text": [
            "Hello and welcome to the Game World!\n",
            "Enter your name : Ankit\n",
            "['apple', 'oracle', 'amazon', 'microsoft', 'orange', 'cat', 'dog']\n",
            "Hello,Ankit you have a list of name as shown above.\n",
            "Now you have to guess correct letter of guessed word\n",
            "And after 6 attempts you have to guess whole word with help of correct letter guess\n",
            "you have total 6 attempts to guess the word\n",
            "Guess the letter : m\n",
            "No!\n",
            "\n",
            "Now let's see what have you guessed so far.\n",
            "You have guessed :  0 letter correctly\n",
            "These letter are :  []\n",
            "Guess the letter : c\n",
            "Yes!\n",
            "\n",
            "Now let's see what have you guessed so far.\n",
            "You have guessed :  1 letter correctly\n",
            "These letter are :  ['c']\n",
            "Guess the letter : r\n",
            "No!\n",
            "\n",
            "Now let's see what have you guessed so far.\n",
            "You have guessed :  1 letter correctly\n",
            "These letter are :  ['c']\n",
            "Guess the letter : a\n",
            "Yes!\n",
            "\n",
            "Would you like a clue?no\n",
            "You're very confident!\n",
            "\n",
            "Now let's see what have you guessed so far.\n",
            "You have guessed :  2 letter correctly\n",
            "These letter are :  ['c', 'a']\n",
            "Guess the letter : t\n",
            "Yes!\n",
            "\n",
            "Now let's see what have you guessed so far.\n",
            "You have guessed :  3 letter correctly\n",
            "These letter are :  ['c', 'a', 't']\n",
            "Guess the letter : m\n",
            "No!\n",
            "\n",
            "Now let's see what have you guessed so far.\n",
            "You have guessed :  3 letter correctly\n",
            "These letter are :  ['c', 'a', 't']\n",
            "Guess the whole word: cat\n",
            "Congrats! you are correct\n",
            "\n",
            "Please press Enter to leave the program\n"
          ]
        }
      ]
    },
    {
      "cell_type": "code",
      "source": [
        ""
      ],
      "metadata": {
        "id": "VGYdl75DSTj5"
      },
      "execution_count": null,
      "outputs": []
    }
  ]
}